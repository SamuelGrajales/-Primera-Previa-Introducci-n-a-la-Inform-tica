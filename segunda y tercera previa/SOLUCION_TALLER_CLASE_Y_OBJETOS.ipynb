{
  "nbformat": 4,
  "nbformat_minor": 0,
  "metadata": {
    "colab": {
      "name": "SOLUCION TALLER CLASE Y OBJETOS.ipynb",
      "provenance": []
    },
    "kernelspec": {
      "name": "python3",
      "display_name": "Python 3"
    },
    "language_info": {
      "name": "python"
    }
  },
  "cells": [
    {
      "cell_type": "markdown",
      "metadata": {
        "id": "c0BK7SPko3-H"
      },
      "source": [
        "## SOLUCION TALLER CLASE Y OBJETOS"
      ]
    },
    {
      "cell_type": "markdown",
      "metadata": {
        "id": "NFD-pTXipPEL"
      },
      "source": [
        "1) Crear una clase para generar objetos\n",
        "\n",
        "Gato\n",
        "\n",
        "2) Crear una clase para representar objetos\n",
        "\n",
        "Moto"
      ]
    },
    {
      "cell_type": "code",
      "metadata": {
        "colab": {
          "base_uri": "https://localhost:8080/"
        },
        "id": "rhLYU0JLo0dI",
        "outputId": "59cec720-a14a-4f7a-a9be-02fe784763b2"
      },
      "source": [
        "class gato:   # aca creamos primero la clase\n",
        "  numero_patas = 4 # aca pues le decimos la cantidad de patas que tiene y demas \n",
        "  def __init__(self, raza, nombre, edad): # aca le vamos a decir que re'ciba pues la reza el nombre y la edad\n",
        "    self.raza = raza  # aca definimos la raza\n",
        "    self.nombre = nombre   # aca definimos el nombre\n",
        "    self.edad = edad  # aca definimos la edad\n",
        "  def maullido(self):\n",
        "    print(\"el gato maulle cuando esta contento!!\")\n",
        "  def get_raza(self): # aca obtenemos la raza del gato\n",
        "    print(\"La raza del gato es =\", self.raza)\n",
        "  def get_nombre(self): # aca Obtenemos el nombre\n",
        "    print(\"El gato se llama =\", self.nombre)\n",
        "  def get_edad(self): #aca  Obtenemos la edad\n",
        "    print(\"La edad del gato es =\", self.edad)\n",
        "\n",
        "p = gato(\"mestizo\", \"Josequin\", 4)\n",
        "p.maullido()\n",
        "p.get_raza()\n",
        "p.get_nombre()\n",
        "p.get_edad()\n",
        "\n",
        "print(\"Número de patas que tiene el gato es =\", p.numero_patas)"
      ],
      "execution_count": 18,
      "outputs": [
        {
          "output_type": "stream",
          "name": "stdout",
          "text": [
            "el gato maulle cuando esta contento!!\n",
            "La raza del gato es = mestizo\n",
            "El gato se llama = Josequin\n",
            "La edad del gato es = 4\n",
            "Número de patas que tiene el gato es = 4\n"
          ]
        }
      ]
    },
    {
      "cell_type": "code",
      "metadata": {
        "colab": {
          "base_uri": "https://localhost:8080/"
        },
        "id": "ptxJSckWvD16",
        "outputId": "85af28bc-e60b-458b-f9a9-b3312c4c183b"
      },
      "source": [
        "class motos:\n",
        "  numero_de_cilindraje = 200 , 250 , 300  \n",
        "  def __init__(self, tipo_de_moto, marca, año): \n",
        "    self.tipo_de_moto = tipo_de_moto\n",
        "    self.marca = marca\n",
        "    self.año = año\n",
        "  def get_tipo_de_moto(self): \n",
        "    print(\"el tipo de moto que tenemos hoy, es:\", self.tipo_de_moto)\n",
        "  def get_marca(self): \n",
        "    print(\"la moto es de marca=\", self.marca)\n",
        "  def get_año(self):\n",
        "    print(\"es una modelo con cilindraje: \", self.año)\n",
        "\n",
        "p = motos(\"enduro\", \"Yamaha\", 250)\n",
        "p.get_tipo_de_moto()\n",
        "p.get_marca()\n",
        "p.get_año()\n",
        "\n",
        "print(\"el cilindraje que puede tener la moto es de: =\", p.numero_de_cilindraje)"
      ],
      "execution_count": null,
      "outputs": [
        {
          "output_type": "stream",
          "name": "stdout",
          "text": [
            "el tipo de moto que tenemos hoy, es: enduro\n",
            "la moto es de marca= Yamaha\n",
            "es una modelo con cilindraje:  250\n",
            "el cilindraje que puede tener la moto es de: = (200, 250, 300)\n"
          ]
        }
      ]
    }
  ]
}
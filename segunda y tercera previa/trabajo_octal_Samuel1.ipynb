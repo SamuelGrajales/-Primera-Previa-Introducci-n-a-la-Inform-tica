{
  "nbformat": 4,
  "nbformat_minor": 0,
  "metadata": {
    "colab": {
      "name": "trabajo octal Samuel1.ipynb",
      "provenance": []
    },
    "kernelspec": {
      "name": "python3",
      "display_name": "Python 3"
    },
    "language_info": {
      "name": "python"
    }
  },
  "cells": [
    {
      "cell_type": "code",
      "metadata": {
        "id": "2qxAysOC3cSP"
      },
      "source": [
        "#punto 1 aca vamos a crear la clase octal\n",
        "#    Esta clase maneja los números cuyos dígitos van desde 0 hasta 7\n",
        "#    La base es 8\n",
        "#    Los números de tipo Octal solamente pueden tener los dígitos:\n",
        "#    0, 1, 2, 3, 4, 5, 6, 7\n",
        "\n",
        "class octal:\n",
        "  pass\n",
        "\n",
        "a = octal ()\n"
      ],
      "execution_count": null,
      "outputs": []
    },
    {
      "cell_type": "code",
      "metadata": {
        "id": "97xbCIo53j6R"
      },
      "source": [
        "#punto 2 aca vamos a crear un constructro con mensaje\n",
        "class octal:\n",
        "  def __init__ (self):\n",
        "    print (\"este es el constructor\")\n",
        "a = octal ()"
      ],
      "execution_count": null,
      "outputs": []
    },
    {
      "cell_type": "code",
      "metadata": {
        "id": "b68PNbb43mKC"
      },
      "source": [
        "#punto 3\n",
        "class octal:\n",
        "  def __init__ (self, dato):\n",
        "    self.dato = dato\n",
        "   \n",
        "a = octal (\"100223\") \n",
        "print (a.dato)"
      ],
      "execution_count": null,
      "outputs": []
    },
    {
      "cell_type": "code",
      "metadata": {
        "id": "PYMROCBR3pkP"
      },
      "source": [
        "# 4. crear un metodo para una funcion para mostrar el contentido del obejto\n",
        "\n",
        "class octal:\n",
        "  def __init__ (self, dato):\n",
        "     self.dato = dato\n",
        "  def string( self ):\n",
        "    print(self.dato)\n",
        "\n",
        "a = octal (\"234322\")\n",
        "a.string()"
      ],
      "execution_count": null,
      "outputs": []
    },
    {
      "cell_type": "code",
      "metadata": {
        "id": "7sbaMXUv3rp0"
      },
      "source": [
        "# 5. convertir la cadena que almacena el octal\n",
        "\n",
        "class octal:\n",
        "  lista_octal = []\n",
        "\n",
        "  def __init__ ( self, cadena_octal ):\n",
        "    self.cadena_octal = cadena_octal\n",
        "    self.lista_octal = list( self.cadena_octal )\n",
        "  def string( self ):\n",
        "    print( self.cadena_octal )\n",
        "    print( self.lista_octal )\n",
        "\n",
        "a = octal( \"234322\" )\n",
        "a.string()"
      ],
      "execution_count": null,
      "outputs": []
    },
    {
      "cell_type": "code",
      "metadata": {
        "id": "-EeJMFSR3txf"
      },
      "source": [
        "# 6 convertir la lista de strings en una lista de enteros\n",
        "\n",
        "class octal:\n",
        "  lista_octal = []\n",
        "\n",
        "  def __init__ ( self, cadena_octal ):\n",
        "    self.cadena_octal = cadena_octal\n",
        "    self.lista_octal = list( self.cadena_octal )\n",
        "\n",
        "    i = 0\n",
        "    for dato in self.lista_octal:\n",
        "      self.lista_octal[i] = int(dato)\n",
        "      i = i + 1\n",
        "\n",
        "  def string( self ):\n",
        "    print( self.cadena_octal )\n",
        "    print( self.lista_octal )\n",
        "\n",
        "a = octal( \"234322\" )\n",
        "a.string()"
      ],
      "execution_count": null,
      "outputs": []
    },
    {
      "cell_type": "code",
      "metadata": {
        "id": "osiROnVW3wF7"
      },
      "source": [
        "#7 invertir para que coincida la definicion de los numeros octales\n",
        "class octal:\n",
        "  lista_octal = []\n",
        "\n",
        "  def __init__ (self, cadena_octal):\n",
        "    self.cadena_octal = cadena_octal\n",
        "    self.lista_octal =list(self.cadena_octal)\n",
        "\n",
        "    i = 0\n",
        "    for dato in self.lista_octal:\n",
        "      self.lista_octal[i] = int(dato)\n",
        "      i = i + 1\n",
        "      self.lista_octal = list(reversed(self.lista_octal))\n",
        "\n",
        "  def string( self ):\n",
        "    print( self.cadena_octal )\n",
        "    print( self.lista_octal )\n",
        "\n",
        "a = octal( \"234322\" )\n",
        "a.string()"
      ],
      "execution_count": null,
      "outputs": []
    },
    {
      "cell_type": "code",
      "metadata": {
        "colab": {
          "base_uri": "https://localhost:8080/"
        },
        "id": "MIOLGFXi30Kc",
        "outputId": "5974009e-bad9-4fee-edc8-f27a1f7d6772"
      },
      "source": [
        "# 8. Crear una función para encontrar el valor decimal del octal\n",
        "\n",
        "class Octal:\n",
        "  base = 8\n",
        "  lista_octal = []\n",
        "\n",
        "  def __init__ ( self, cadena_octal ):\n",
        "    self.cadena_octal = cadena_octal\n",
        "    self.lista_octal = list( self.cadena_octal )\n",
        "\n",
        "    i = 0\n",
        "    for dato in self.lista_octal:\n",
        "      self.lista_octal[i] = int(dato)\n",
        "      i = i + 1\n",
        "\n",
        "    self.lista_octal = list(reversed(self.lista_octal))\n",
        "\n",
        "  def decimal( self ):\n",
        "    numero_decimal = 0\n",
        "    i = 0\n",
        "    for dato in self.lista_octal:\n",
        "      numero_decimal += self.base**i * self.lista_octal[i]\n",
        "      i = i + 1\n",
        "    return numero_decimal\n",
        "\n",
        "  def string( self ):\n",
        "    print( self.cadena_octal )\n",
        "    print( self.lista_octal )\n",
        "\n",
        "a = Octal( \"55241\" )\n",
        "a.string()\n",
        "print (\"el numero octal equivale a\")\n",
        "print( a.decimal() )"
      ],
      "execution_count": 2,
      "outputs": [
        {
          "output_type": "stream",
          "name": "stdout",
          "text": [
            "55241\n",
            "[1, 4, 2, 5, 5]\n",
            "el numero octal equivale a\n",
            "23201\n"
          ]
        }
      ]
    }
  ]
}